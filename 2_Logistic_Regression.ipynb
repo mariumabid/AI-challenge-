{
  "nbformat": 4,
  "nbformat_minor": 0,
  "metadata": {
    "colab": {
      "name": "2_Logistic-Regression.ipynb",
      "version": "0.3.2",
      "provenance": [],
      "include_colab_link": true
    },
    "kernelspec": {
      "display_name": "Python 3",
      "language": "python",
      "name": "python3"
    }
  },
  "cells": [
    {
      "cell_type": "markdown",
      "metadata": {
        "id": "view-in-github",
        "colab_type": "text"
      },
      "source": [
        "<a href=\"https://colab.research.google.com/github/mariumabid/AI-challenge-/blob/master/2_Logistic_Regression.ipynb\" target=\"_parent\"><img src=\"https://colab.research.google.com/assets/colab-badge.svg\" alt=\"Open In Colab\"/></a>"
      ]
    },
    {
      "cell_type": "code",
      "metadata": {
        "id": "76vFmUa3pDZp",
        "colab_type": "code",
        "colab": {}
      },
      "source": [
        "import pandas as pd\n",
        "from sklearn import preprocessing"
      ],
      "execution_count": 0,
      "outputs": []
    },
    {
      "cell_type": "markdown",
      "metadata": {
        "id": "SGsOhbbc1qoR",
        "colab_type": "text"
      },
      "source": [
        "### Data pre-processing\n",
        "\n",
        "Only alter the data pre-processing code if you have completed the challenge for that section."
      ]
    },
    {
      "cell_type": "code",
      "metadata": {
        "id": "dMaxPvA4n9W_",
        "colab_type": "code",
        "colab": {}
      },
      "source": [
        "# The data URI\n",
        "csv_file_uri = \"https://archive.ics.uci.edu/ml/machine-learning-databases/adult/adult.data\"\n",
        "\n",
        "column_names = [\n",
        "    \"age\", \"workclass\", \"fnlwgt\", \"education\", \"education-num\", \"marital-status\",\n",
        "    \"occupation\", \"relationship\", \"race\", \"sex\", \"capital-gain\", \"capital-loss\",\n",
        "    \"hours-per-week\", \"native-country\", \"target\"\n",
        "]\n",
        "\n",
        "\n",
        "data_original = pd.read_csv(csv_file_uri, names=column_names, index_col=False)\n",
        "\n",
        "USE_LABEL_ENCODER = False\n",
        "\n",
        "\n",
        "if USE_LABEL_ENCODER:\n",
        "\n",
        "    # Make a copy so that we always have the original data to refer to\n",
        "    data = data_original.copy(deep=True)\n",
        "\n",
        "    # Drop the US weights (don't have any value)\n",
        "    data.drop([\"fnlwgt\"], axis=1, inplace=True)\n",
        "\n",
        "    # Create a function that changes the text to a simple binary value\n",
        "    def convert_target_variable(text):\n",
        "        if text == \" <=50K\":\n",
        "            return 0\n",
        "        else:\n",
        "            return 1\n",
        "\n",
        "    data[\"target_encoded\"] = data.target.apply(convert_target_variable)\n",
        "\n",
        "    # Deletes the original column in this dataframe.\n",
        "    data.drop([\"target\"], axis=1, inplace=True)\n",
        "\n",
        "    encoded_columns = []\n",
        "    for c in data.columns:\n",
        "        if data[c].dtype == \"object\":\n",
        "            if \"{}_encoded\".format(c) not in data.columns:\n",
        "                encoder = preprocessing.LabelEncoder()\n",
        "                data[\"{}_encoded\".format(c)] = encoder.fit_transform(data[c].values)\n",
        "                encoded_columns.append(c)\n",
        "                encoder = None\n",
        "            else:\n",
        "                print(\"{}_encoded already exists\".format(c))\n",
        "\n",
        "    print(\"Dropping the encoded columns {}\".format(encoded_columns))\n",
        "    data.drop(encoded_columns, axis=1, inplace=True)\n",
        "    \n",
        "else:\n",
        "    \n",
        "    # Make a copy so that we always have the original data to refer to\n",
        "    data_pre_dummies = data_original.copy(deep=True)\n",
        "\n",
        "    # Drop the US weights (don't have any value)\n",
        "    data_pre_dummies.drop([\"fnlwgt\"], axis=1, inplace=True)\n",
        "    \n",
        "    data = pd.get_dummies(data_pre_dummies)\n",
        "\n",
        "    # Deletes the original column in this dataframe.\n",
        "    data.drop([\"target_ <=50K\"], axis=1, inplace=True)\n",
        "\n",
        "    # Rename the target\n",
        "    data.rename(columns={'target_ >50K': 'target' }, inplace=True)"
      ],
      "execution_count": 0,
      "outputs": []
    },
    {
      "cell_type": "markdown",
      "metadata": {
        "id": "Q2p47Pbi1qoV",
        "colab_type": "text"
      },
      "source": [
        "---\n",
        "### Model\n",
        "\n",
        "This is the moment we can use the new, numerical, data to plug it into pretty much any classification model. First we'll convert the data to a matrix with our features - that is the data that we want to use to predict from - and an array with our labels - the target variable that indicates if someone makes more than 50k or not."
      ]
    },
    {
      "cell_type": "code",
      "metadata": {
        "id": "U8qcZVFMybnT",
        "colab_type": "code",
        "colab": {}
      },
      "source": [
        "feature_columns = data.columns.tolist()\n",
        "feature_columns.remove(\"target\")"
      ],
      "execution_count": 0,
      "outputs": []
    },
    {
      "cell_type": "code",
      "metadata": {
        "id": "6PKvkNxwMyPN",
        "colab_type": "code",
        "outputId": "6f68ba5a-9170-49e9-bf8e-28827170fc64",
        "colab": {
          "base_uri": "https://localhost:8080/",
          "height": 51
        }
      },
      "source": [
        "X = data[feature_columns].values\n",
        "y = data[\"target\"].values\n",
        "\n",
        "print(X.shape)\n",
        "print(y.shape)"
      ],
      "execution_count": 0,
      "outputs": [
        {
          "output_type": "stream",
          "text": [
            "(32561, 107)\n",
            "(32561,)\n"
          ],
          "name": "stdout"
        }
      ]
    },
    {
      "cell_type": "code",
      "metadata": {
        "id": "RM4nGlt0NWCE",
        "colab_type": "code",
        "outputId": "ac07d1ac-c77b-4e35-bd64-e70795ab12e5",
        "colab": {
          "base_uri": "https://localhost:8080/",
          "height": 85
        }
      },
      "source": [
        "# Quick tips on how to index matrices/arrays\n",
        "\n",
        "# The first ROW\n",
        "print(X[1,:])\n",
        "\n",
        "# The first TWO ROWS\n",
        "print(X[:2,:])\n",
        "\n",
        "# The last ROW\n",
        "print(X[-1,:])\n",
        "\n",
        "# The first 3 ROWS with only the last TWO COLUMNS\n",
        "print(X[:3,-2:])"
      ],
      "execution_count": 0,
      "outputs": [
        {
          "output_type": "stream",
          "text": [
            "[50 13  0  0 13  0  0  0  0  0  0  1  0  0  0  0  0  0  0  0  0  0  0  1\n",
            "  0  0  0  0  0  0  0  0  1  0  0  0  0  0  0  0  0  1  0  0  0  0  0  0\n",
            "  0  0  0  0  1  0  0  0  0  0  0  0  0  0  1  0  1  0  0  0  0  0  0  0\n",
            "  0  0  0  0  0  0  0  0  0  0  0  0  0  0  0  0  0  0  0  0  0  0  0  0\n",
            "  0  0  0  0  0  0  0  0  1  0  0]\n",
            "[[  39   13 2174    0   40    0    0    0    0    0    0    0    1    0\n",
            "     0    0    0    0    0    0    0    0    0    1    0    0    0    0\n",
            "     0    0    0    0    0    0    1    0    0    0    1    0    0    0\n",
            "     0    0    0    0    0    0    0    0    0    0    0    1    0    0\n",
            "     0    0    0    0    0    0    1    0    1    0    0    0    0    0\n",
            "     0    0    0    0    0    0    0    0    0    0    0    0    0    0\n",
            "     0    0    0    0    0    0    0    0    0    0    0    0    0    0\n",
            "     0    0    0    0    0    0    1    0    0]\n",
            " [  50   13    0    0   13    0    0    0    0    0    0    1    0    0\n",
            "     0    0    0    0    0    0    0    0    0    1    0    0    0    0\n",
            "     0    0    0    0    1    0    0    0    0    0    0    0    0    1\n",
            "     0    0    0    0    0    0    0    0    0    0    1    0    0    0\n",
            "     0    0    0    0    0    0    1    0    1    0    0    0    0    0\n",
            "     0    0    0    0    0    0    0    0    0    0    0    0    0    0\n",
            "     0    0    0    0    0    0    0    0    0    0    0    0    0    0\n",
            "     0    0    0    0    0    0    1    0    0]]\n",
            "[   52     9 15024     0    40     0     0     0     0     0     1     0\n",
            "     0     0     0     0     0     0     0     0     0     0     0     0\n",
            "     0     1     0     0     0     0     0     0     1     0     0     0\n",
            "     0     0     0     0     0     1     0     0     0     0     0     0\n",
            "     0     0     0     0     0     0     0     0     0     1     0     0\n",
            "     0     0     1     1     0     0     0     0     0     0     0     0\n",
            "     0     0     0     0     0     0     0     0     0     0     0     0\n",
            "     0     0     0     0     0     0     0     0     0     0     0     0\n",
            "     0     0     0     0     0     0     0     0     1     0     0]\n",
            "[[0 0]\n",
            " [0 0]\n",
            " [0 0]]\n"
          ],
          "name": "stdout"
        }
      ]
    },
    {
      "cell_type": "markdown",
      "metadata": {
        "id": "DTVeuc6r1qof",
        "colab_type": "text"
      },
      "source": [
        "Lets use a model from **scikit-learn**: LogisticRegression\n",
        "\n",
        "For those interested in the [documentation](http://scikit-learn.org/stable/modules/generated/sklearn.linear_model.LogisticRegression.html#sklearn.linear_model.LogisticRegression)"
      ]
    },
    {
      "cell_type": "code",
      "metadata": {
        "id": "-XhqqOU0wfJv",
        "colab_type": "code",
        "colab": {}
      },
      "source": [
        "from sklearn import linear_model\n",
        "\n",
        "# Create linear regression object\n",
        "clf = linear_model.LogisticRegression()"
      ],
      "execution_count": 0,
      "outputs": []
    },
    {
      "cell_type": "code",
      "metadata": {
        "id": "lHfrMfHr1qoj",
        "colab_type": "code",
        "outputId": "f4b5111f-123c-4c0c-db24-66998de4d957",
        "colab": {}
      },
      "source": [
        "# MAGIC\n",
        "# \n",
        "# Train the model using the training sets\n",
        "clf.fit(X, y)"
      ],
      "execution_count": 0,
      "outputs": [
        {
          "output_type": "execute_result",
          "data": {
            "text/plain": [
              "LogisticRegression(C=1.0, class_weight=None, dual=False, fit_intercept=True,\n",
              "          intercept_scaling=1, max_iter=100, multi_class='ovr', n_jobs=1,\n",
              "          penalty='l2', random_state=None, solver='liblinear', tol=0.0001,\n",
              "          verbose=0, warm_start=False)"
            ]
          },
          "metadata": {
            "tags": []
          },
          "execution_count": 7
        }
      ]
    },
    {
      "cell_type": "code",
      "metadata": {
        "id": "1_CskNhyw0Wl",
        "colab_type": "code",
        "colab": {}
      },
      "source": [
        "# Make predictions using the testing set. \n",
        "# For now we'll use the last value of the training set.\n",
        "pred = clf.predict(X[-1,:].reshape(1,-1))"
      ],
      "execution_count": 0,
      "outputs": []
    },
    {
      "cell_type": "code",
      "metadata": {
        "id": "Dp8I8BY31qoo",
        "colab_type": "code",
        "outputId": "c10cc7b7-e3ce-4812-85eb-4f6c00de2363",
        "colab": {}
      },
      "source": [
        "# Print the data \n",
        "print(data_original.iloc[data_original.index[-1]])\n",
        "\n",
        "# and the prediction\n",
        "print(\"Predict its a {}\".format(pred))\n",
        "\n",
        "probability = clf.predict_proba(X[-1,:].reshape(1,-1))\n",
        "print(\"With a probability of {}\".format(probability[0,pred[0]]))"
      ],
      "execution_count": 0,
      "outputs": [
        {
          "output_type": "stream",
          "text": [
            "age                                52\n",
            "workclass                Self-emp-inc\n",
            "fnlwgt                         287927\n",
            "education                     HS-grad\n",
            "education-num                       9\n",
            "marital-status     Married-civ-spouse\n",
            "occupation            Exec-managerial\n",
            "relationship                     Wife\n",
            "race                            White\n",
            "sex                            Female\n",
            "capital-gain                    15024\n",
            "capital-loss                        0\n",
            "hours-per-week                     40\n",
            "native-country          United-States\n",
            "target                           >50K\n",
            "Name: 32560, dtype: object\n",
            "Predict its a [1]\n",
            "With a probability of 0.9941035934636746\n"
          ],
          "name": "stdout"
        }
      ]
    },
    {
      "cell_type": "code",
      "metadata": {
        "id": "FBLsS4FE1qoq",
        "colab_type": "code",
        "outputId": "ec53f1a4-6daa-4ce8-94f6-6bae24b3607a",
        "colab": {}
      },
      "source": [
        "# How did the model do this? We can see the coefficients \n",
        "# for each column using \n",
        "# print(clf.coef_)\n",
        "\n",
        "# Pretty print with the column names\n",
        "for ix, c in enumerate(feature_columns):\n",
        "    print(\"Column {} is {}\".format(c, clf.coef_[0][ix]))"
      ],
      "execution_count": 0,
      "outputs": [
        {
          "output_type": "stream",
          "text": [
            "Column age is 0.023416553291590952\n",
            "Column education-num is 0.15128177678973417\n",
            "Column capital-gain is 0.0003111700725644025\n",
            "Column capital-loss is 0.0006361900682646348\n",
            "Column hours-per-week is 0.02807788322366632\n",
            "Column workclass_ ? is -0.5690943712804999\n",
            "Column workclass_ Federal-gov is 0.21952833795020954\n",
            "Column workclass_ Local-gov is -0.46820920929449106\n",
            "Column workclass_ Never-worked is -0.006914877746796402\n",
            "Column workclass_ Private is -0.3061065500279686\n",
            "Column workclass_ Self-emp-inc is -0.15350829847916853\n",
            "Column workclass_ Self-emp-not-inc is -0.7902409255086751\n",
            "Column workclass_ State-gov is -0.6081554667087883\n",
            "Column workclass_ Without-pay is -0.052733989039708516\n",
            "Column education_ 10th is -0.6651138743054429\n",
            "Column education_ 11th is -0.7633972069283986\n",
            "Column education_ 12th is -0.3483340309046212\n",
            "Column education_ 1st-4th is -0.21355551865315978\n",
            "Column education_ 5th-6th is -0.3746150259806669\n",
            "Column education_ 7th-8th is -0.7674462429905754\n",
            "Column education_ 9th is -0.5499013621844102\n",
            "Column education_ Assoc-acdm is -0.2599717692718627\n",
            "Column education_ Assoc-voc is -0.11540840591294305\n",
            "Column education_ Bachelors is 0.1769931481468411\n",
            "Column education_ Doctorate is 0.6720369974268937\n",
            "Column education_ HS-grad is -0.33726350910255587\n",
            "Column education_ Masters is 0.36063803452381143\n",
            "Column education_ Preschool is -0.09985111069481996\n",
            "Column education_ Prof-school is 0.7134122740768297\n",
            "Column education_ Some-college is -0.16365774738089978\n",
            "Column marital-status_ Divorced is -0.7058308257638568\n",
            "Column marital-status_ Married-AF-spouse is 0.09438050202979546\n",
            "Column marital-status_ Married-civ-spouse is 0.5633032478018135\n",
            "Column marital-status_ Married-spouse-absent is -0.3721916589805297\n",
            "Column marital-status_ Never-married is -1.2584319300571412\n",
            "Column marital-status_ Separated is -0.6283324232533659\n",
            "Column marital-status_ Widowed is -0.4283322619126504\n",
            "Column occupation_ ? is -0.5760092490272962\n",
            "Column occupation_ Adm-clerical is -0.1645296675732895\n",
            "Column occupation_ Armed-Forces is -0.020232645591435578\n",
            "Column occupation_ Craft-repair is -0.10172957789599563\n",
            "Column occupation_ Exec-managerial is 0.6062407136220551\n",
            "Column occupation_ Farming-fishing is -1.0358455973168135\n",
            "Column occupation_ Handlers-cleaners is -0.8269682514643009\n",
            "Column occupation_ Machine-op-inspct is -0.4665749880030494\n",
            "Column occupation_ Other-service is -1.035417181981161\n",
            "Column occupation_ Priv-house-serv is -0.1710082993575956\n",
            "Column occupation_ Prof-specialty is 0.3408739225093305\n",
            "Column occupation_ Protective-serv is 0.3791047349646961\n",
            "Column occupation_ Sales is 0.08544969363764245\n",
            "Column occupation_ Tech-support is 0.5255258847686225\n",
            "Column occupation_ Transport-moving is -0.2743148414273424\n",
            "Column relationship_ Husband is -0.26326215883850385\n",
            "Column relationship_ Not-in-family is -0.5333687528737899\n",
            "Column relationship_ Other-relative is -0.7323552286785877\n",
            "Column relationship_ Own-child is -1.4830850058808558\n",
            "Column relationship_ Unmarried is -0.7833350114601796\n",
            "Column relationship_ Wife is 1.059970807596\n",
            "Column race_ Amer-Indian-Eskimo is -0.4999432532409106\n",
            "Column race_ Asian-Pac-Islander is -0.6384969668086545\n",
            "Column race_ Black is -0.6738130657369124\n",
            "Column race_ Other is -0.4457547724382032\n",
            "Column race_ White is -0.47742729191122973\n",
            "Column sex_ Female is -1.8116901976540514\n",
            "Column sex_ Male is -0.9237451524818091\n",
            "Column native-country_ ? is -0.38056310676826954\n",
            "Column native-country_ Cambodia is 0.038877959670774266\n",
            "Column native-country_ Canada is 0.02113768961426247\n",
            "Column native-country_ China is -0.16484994620005747\n",
            "Column native-country_ Columbia is -0.16037073463714216\n",
            "Column native-country_ Cuba is -0.0022985082161672424\n",
            "Column native-country_ Dominican-Republic is -0.14547437074660968\n",
            "Column native-country_ Ecuador is -0.04654854110520186\n",
            "Column native-country_ El-Salvador is -0.1384559677328989\n",
            "Column native-country_ England is 0.01652886793220454\n",
            "Column native-country_ France is 0.033200571289173544\n",
            "Column native-country_ Germany is 0.03400884334801938\n",
            "Column native-country_ Greece is -0.0936892824563564\n",
            "Column native-country_ Guatemala is -0.061335903638446876\n",
            "Column native-country_ Haiti is -0.03789107490128411\n",
            "Column native-country_ Holand-Netherlands is -0.001747864482666837\n",
            "Column native-country_ Honduras is -0.012376875404026821\n",
            "Column native-country_ Hong is -0.020795698384653557\n",
            "Column native-country_ Hungary is -0.015093010362819757\n",
            "Column native-country_ India is -0.15088873643948855\n",
            "Column native-country_ Iran is -0.030448884682656566\n",
            "Column native-country_ Ireland is 0.007721786549308527\n",
            "Column native-country_ Italy is 0.07864438273481558\n",
            "Column native-country_ Jamaica is -0.053102702951767895\n",
            "Column native-country_ Japan is 0.021184705956764693\n",
            "Column native-country_ Laos is -0.03348319387404266\n",
            "Column native-country_ Mexico is -0.7053811902086973\n",
            "Column native-country_ Nicaragua is -0.0676597098249231\n",
            "Column native-country_ Outlying-US(Guam-USVI-etc) is -0.037065226627235937\n",
            "Column native-country_ Peru is -0.04681676278708824\n",
            "Column native-country_ Philippines is 0.05723000017216128\n",
            "Column native-country_ Poland is -0.05944235575547968\n",
            "Column native-country_ Portugal is -0.05316387490562503\n",
            "Column native-country_ Puerto-Rico is -0.16464590273330426\n",
            "Column native-country_ Scotland is -0.004093619393748825\n",
            "Column native-country_ South is -0.18155507503156657\n",
            "Column native-country_ Taiwan is -0.02715695137499663\n",
            "Column native-country_ Thailand is -0.025164098169313243\n",
            "Column native-country_ Trinadad&Tobago is -0.02661451080863807\n",
            "Column native-country_ United-States is 0.035976933122450344\n",
            "Column native-country_ Vietnam is -0.14572852910368966\n",
            "Column native-country_ Yugoslavia is 0.013955119182950471\n"
          ],
          "name": "stdout"
        }
      ]
    },
    {
      "cell_type": "code",
      "metadata": {
        "id": "oNh6zR4VT71B",
        "colab_type": "code",
        "outputId": "39d5d737-6ddb-4f3a-97fd-5e6b7232be7f",
        "colab": {
          "base_uri": "https://localhost:8080/",
          "height": 34
        }
      },
      "source": [
        "# How good is the model by evaluating it \n",
        "# on the training set\n",
        "print(\"This model has an overall accuracy of {}\".format(clf.score(X, y)))"
      ],
      "execution_count": 0,
      "outputs": [
        {
          "output_type": "stream",
          "text": [
            "This model has an overall accuracy of 0.8512023586499187\n"
          ],
          "name": "stdout"
        }
      ]
    },
    {
      "cell_type": "markdown",
      "metadata": {
        "id": "D3ZaQGmQ1qox",
        "colab_type": "text"
      },
      "source": [
        "**The above is incredibly bad practice (up to the point where I should be fired for even showing you). Why?**"
      ]
    }
  ]
}