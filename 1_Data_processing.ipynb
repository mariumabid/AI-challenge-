{
  "nbformat": 4,
  "nbformat_minor": 0,
  "metadata": {
    "colab": {
      "name": "1_Data_processing.ipynb",
      "version": "0.3.2",
      "provenance": [],
      "include_colab_link": true
    },
    "kernelspec": {
      "display_name": "Python 3",
      "language": "python",
      "name": "python3"
    }
  },
  "cells": [
    {
      "cell_type": "markdown",
      "metadata": {
        "id": "view-in-github",
        "colab_type": "text"
      },
      "source": [
        "<a href=\"https://colab.research.google.com/github/mariumabid/AI-challenge-/blob/master/1_Data_processing.ipynb\" target=\"_parent\"><img src=\"https://colab.research.google.com/assets/colab-badge.svg\" alt=\"Open In Colab\"/></a>"
      ]
    },
    {
      "cell_type": "code",
      "metadata": {
        "id": "76vFmUa3pDZp",
        "colab_type": "code",
        "colab": {}
      },
      "source": [
        "import pandas as pd"
      ],
      "execution_count": 0,
      "outputs": []
    },
    {
      "cell_type": "code",
      "metadata": {
        "id": "dMaxPvA4n9W_",
        "colab_type": "code",
        "colab": {}
      },
      "source": [
        "# The data URI\n",
        "csv_file_uri = \"https://archive.ics.uci.edu/ml/machine-learning-databases/adult/adult.data\"\n",
        "csv_file_uri = \"adult.data.csv\""
      ],
      "execution_count": 0,
      "outputs": []
    },
    {
      "cell_type": "markdown",
      "metadata": {
        "id": "Kdq_GAH9RiBQ",
        "colab_type": "text"
      },
      "source": [
        "### Data overview\n",
        "\n",
        "```\n",
        ">50K, <=50K.\n",
        "\n",
        "age: continuous.\n",
        "workclass: Private, Self-emp-not-inc, Self-emp-inc, Federal-gov, Local-gov, State-gov, Without-pay, Never-worked.\n",
        "fnlwgt: continuous.\n",
        "education: Bachelors, Some-college, 11th, HS-grad, Prof-school, Assoc-acdm, Assoc-voc, 9th, 7th-8th, 12th, Masters, 1st-4th, 10th, Doctorate, 5th-6th, Preschool.\n",
        "education-num: continuous.\n",
        "marital-status: Married-civ-spouse, Divorced, Never-married, Separated, Widowed, Married-spouse-absent, Married-AF-spouse.\n",
        "occupation: Tech-support, Craft-repair, Other-service, Sales, Exec-managerial, Prof-specialty, Handlers-cleaners, Machine-op-inspct, Adm-clerical, Farming-fishing, Transport-moving, Priv-house-serv, Protective-serv, Armed-Forces.\n",
        "relationship: Wife, Own-child, Husband, Not-in-family, Other-relative, Unmarried.\n",
        "race: White, Asian-Pac-Islander, Amer-Indian-Eskimo, Other, Black.\n",
        "sex: Female, Male.\n",
        "capital-gain: continuous.\n",
        "capital-loss: continuous.\n",
        "hours-per-week: continuous.\n",
        "native-country: United-States, Cambodia, England, Puerto-Rico, Canada, Germany, Outlying-US(Guam-USVI-etc), India, Japan, Greece, South, China, Cuba, Iran, Honduras, Philippines, Italy, Poland, Jamaica, Vietnam, Mexico, Portugal, Ireland, France, Dominican-Republic, Laos, Ecuador, Taiwan, Haiti, Columbia, Hungary, Guatemala, Nicaragua, Scotland, Thailand, Yugoslavia, El-Salvador, Trinadad&Tobago, Peru, Hong, Holand-Netherlands.\n",
        "```"
      ]
    },
    {
      "cell_type": "markdown",
      "metadata": {
        "id": "3VzG0ACQLhOx",
        "colab_type": "text"
      },
      "source": [
        "Loading the data"
      ]
    },
    {
      "cell_type": "code",
      "metadata": {
        "id": "LbX0gLhqoQ6u",
        "colab_type": "code",
        "outputId": "503a0a48-99c1-4f86-fc73-63509ff1981f",
        "colab": {
          "base_uri": "https://localhost:8080/",
          "height": 193
        }
      },
      "source": [
        "column_names = [\n",
        "    \"age\", \"workclass\", \"fnlwgt\", \"education\", \"education-num\", \"marital-status\",\n",
        "    \"occupation\", \"relationship\", \"race\", \"sex\", \"capital-gain\", \"capital-loss\",\n",
        "    \"hours-per-week\", \"native-country\", \"target\"\n",
        "]\n",
        "\n",
        "\n",
        "data_original = pd.read_csv(csv_file_uri, names=column_names, index_col=False)\n",
        "# Make a copy so that we always have the original data to refer to\n",
        "data = data_original.copy(deep=True)\n",
        "# Drop the US weights (don't have any value)\n",
        "data.drop([\"fnlwgt\"], axis=1, inplace=True)\n",
        "\n",
        "# Show the head rows of the table at this stage.\n",
        "data.head(3)"
      ],
      "execution_count": 0,
      "outputs": [
        {
          "output_type": "execute_result",
          "data": {
            "text/html": [
              "<div>\n",
              "<style scoped>\n",
              "    .dataframe tbody tr th:only-of-type {\n",
              "        vertical-align: middle;\n",
              "    }\n",
              "\n",
              "    .dataframe tbody tr th {\n",
              "        vertical-align: top;\n",
              "    }\n",
              "\n",
              "    .dataframe thead th {\n",
              "        text-align: right;\n",
              "    }\n",
              "</style>\n",
              "<table border=\"1\" class=\"dataframe\">\n",
              "  <thead>\n",
              "    <tr style=\"text-align: right;\">\n",
              "      <th></th>\n",
              "      <th>age</th>\n",
              "      <th>workclass</th>\n",
              "      <th>education</th>\n",
              "      <th>education-num</th>\n",
              "      <th>marital-status</th>\n",
              "      <th>occupation</th>\n",
              "      <th>relationship</th>\n",
              "      <th>race</th>\n",
              "      <th>sex</th>\n",
              "      <th>capital-gain</th>\n",
              "      <th>capital-loss</th>\n",
              "      <th>hours-per-week</th>\n",
              "      <th>native-country</th>\n",
              "      <th>target</th>\n",
              "    </tr>\n",
              "  </thead>\n",
              "  <tbody>\n",
              "    <tr>\n",
              "      <th>0</th>\n",
              "      <td>39</td>\n",
              "      <td>State-gov</td>\n",
              "      <td>Bachelors</td>\n",
              "      <td>13</td>\n",
              "      <td>Never-married</td>\n",
              "      <td>Adm-clerical</td>\n",
              "      <td>Not-in-family</td>\n",
              "      <td>White</td>\n",
              "      <td>Male</td>\n",
              "      <td>2174</td>\n",
              "      <td>0</td>\n",
              "      <td>40</td>\n",
              "      <td>United-States</td>\n",
              "      <td>&lt;=50K</td>\n",
              "    </tr>\n",
              "    <tr>\n",
              "      <th>1</th>\n",
              "      <td>50</td>\n",
              "      <td>Self-emp-not-inc</td>\n",
              "      <td>Bachelors</td>\n",
              "      <td>13</td>\n",
              "      <td>Married-civ-spouse</td>\n",
              "      <td>Exec-managerial</td>\n",
              "      <td>Husband</td>\n",
              "      <td>White</td>\n",
              "      <td>Male</td>\n",
              "      <td>0</td>\n",
              "      <td>0</td>\n",
              "      <td>13</td>\n",
              "      <td>United-States</td>\n",
              "      <td>&lt;=50K</td>\n",
              "    </tr>\n",
              "    <tr>\n",
              "      <th>2</th>\n",
              "      <td>38</td>\n",
              "      <td>Private</td>\n",
              "      <td>HS-grad</td>\n",
              "      <td>9</td>\n",
              "      <td>Divorced</td>\n",
              "      <td>Handlers-cleaners</td>\n",
              "      <td>Not-in-family</td>\n",
              "      <td>White</td>\n",
              "      <td>Male</td>\n",
              "      <td>0</td>\n",
              "      <td>0</td>\n",
              "      <td>40</td>\n",
              "      <td>United-States</td>\n",
              "      <td>&lt;=50K</td>\n",
              "    </tr>\n",
              "  </tbody>\n",
              "</table>\n",
              "</div>"
            ],
            "text/plain": [
              "   age          workclass   education  education-num       marital-status  \\\n",
              "0   39          State-gov   Bachelors             13        Never-married   \n",
              "1   50   Self-emp-not-inc   Bachelors             13   Married-civ-spouse   \n",
              "2   38            Private     HS-grad              9             Divorced   \n",
              "\n",
              "           occupation    relationship    race    sex  capital-gain  \\\n",
              "0        Adm-clerical   Not-in-family   White   Male          2174   \n",
              "1     Exec-managerial         Husband   White   Male             0   \n",
              "2   Handlers-cleaners   Not-in-family   White   Male             0   \n",
              "\n",
              "   capital-loss  hours-per-week  native-country  target  \n",
              "0             0              40   United-States   <=50K  \n",
              "1             0              13   United-States   <=50K  \n",
              "2             0              40   United-States   <=50K  "
            ]
          },
          "metadata": {
            "tags": []
          },
          "execution_count": 3
        }
      ]
    },
    {
      "cell_type": "code",
      "metadata": {
        "id": "9HkQGhD2LFrO",
        "colab_type": "code",
        "colab": {}
      },
      "source": [
        "# How big is the dataset?\n",
        "data.shape"
      ],
      "execution_count": 0,
      "outputs": []
    },
    {
      "cell_type": "markdown",
      "metadata": {
        "id": "Ny_2xk4aLhO6",
        "colab_type": "text"
      },
      "source": [
        "The variable we want to predict for classification is the **target**. The problem now is that it is text and we can not work with text in most models.\n",
        "\n",
        "Here is one way to change a column in a pandas dataframe (using the `apply` method)"
      ]
    },
    {
      "cell_type": "code",
      "metadata": {
        "id": "2vI_WGCLqWxY",
        "colab_type": "code",
        "colab": {}
      },
      "source": [
        "# Create a function that changes the text to a simple binary value\n",
        "def convert_target_variable(text):\n",
        "    if text == \" <=50K\":\n",
        "        return 0\n",
        "    else:\n",
        "        return 1\n",
        "\n",
        "data[\"target_encoded\"] = data.target.apply(convert_target_variable)\n",
        "\n",
        "# Deletes the original column in this dataframe.\n",
        "data.drop([\"target\"], axis=1, inplace=True)\n",
        "\n",
        "data.head(3)"
      ],
      "execution_count": 0,
      "outputs": []
    },
    {
      "cell_type": "code",
      "metadata": {
        "id": "4jrDCvZArtrB",
        "colab_type": "code",
        "colab": {}
      },
      "source": [
        "# To check how many people make less than 50k and how many make more\n",
        "data.target_encoded.value_counts()"
      ],
      "execution_count": 0,
      "outputs": []
    },
    {
      "cell_type": "markdown",
      "metadata": {
        "id": "oguRbMN8LhO_",
        "colab_type": "text"
      },
      "source": [
        "### Data Preprocessing\n",
        "\n",
        "At this point we have a big problem with our data. Algorithms (most of them) can only handle data (as they rely on mathematics). For this reason we need to get rid of any column that is a text variable and change it to a numerical one.\n",
        "\n",
        "You can use one of many classes from the machine learning toolkit **scikit-learn**"
      ]
    },
    {
      "cell_type": "code",
      "metadata": {
        "id": "34SBbOZFqyqW",
        "colab_type": "code",
        "colab": {}
      },
      "source": [
        "from sklearn import preprocessing"
      ],
      "execution_count": 0,
      "outputs": []
    },
    {
      "cell_type": "code",
      "metadata": {
        "id": "iymS30dMq0Vk",
        "colab_type": "code",
        "colab": {}
      },
      "source": [
        "encoder = preprocessing.LabelEncoder()\n",
        "\n",
        "data[\"race_encoded\"] = encoder.fit_transform(data.race.values)\n",
        "data.drop([\"race\"], axis=1, inplace=True)\n",
        "\n",
        "# View your new column.\n",
        "data.head(3)"
      ],
      "execution_count": 0,
      "outputs": []
    },
    {
      "cell_type": "markdown",
      "metadata": {
        "id": "VKjbTD_GLhPE",
        "colab_type": "text"
      },
      "source": [
        "**Discuss what a Label Encoder does, make sure you understand how it works**"
      ]
    },
    {
      "cell_type": "markdown",
      "metadata": {
        "id": "R5LzvvypLhPF",
        "colab_type": "text"
      },
      "source": [
        "We have a whole bunch of these columns (run the following block to see which), so lets encode them all."
      ]
    },
    {
      "cell_type": "code",
      "metadata": {
        "id": "y2ukq-zrJab4",
        "colab_type": "code",
        "colab": {}
      },
      "source": [
        "data.dtypes"
      ],
      "execution_count": 0,
      "outputs": []
    },
    {
      "cell_type": "code",
      "metadata": {
        "id": "eh0zGvZMJlXF",
        "colab_type": "code",
        "colab": {}
      },
      "source": [
        "encoded_columns = []\n",
        "for c in data.columns:\n",
        "    if data[c].dtype == \"object\":\n",
        "        if \"{}_encoded\".format(c) not in data.columns:\n",
        "            encoder = preprocessing.LabelEncoder()\n",
        "            data[\"{}_encoded\".format(c)] = encoder.fit_transform(data[c].values)\n",
        "            encoded_columns.append(c)\n",
        "            encoder = None\n",
        "        else:\n",
        "            print(\"{}_encoded already exists\".format(c))\n",
        "\n",
        "print(\"Dropping the encoded columns {}\".format(encoded_columns))\n",
        "data.drop(encoded_columns, axis=1, inplace=True)"
      ],
      "execution_count": 0,
      "outputs": []
    },
    {
      "cell_type": "code",
      "metadata": {
        "id": "RJTwq_2Dq1Tg",
        "colab_type": "code",
        "colab": {}
      },
      "source": [
        "# Check out the new numerical data table.\n",
        "data.head()"
      ],
      "execution_count": 0,
      "outputs": []
    },
    {
      "cell_type": "code",
      "metadata": {
        "id": "OBrIEFq0pxQj",
        "colab_type": "code",
        "colab": {}
      },
      "source": [
        "# All available column names\n",
        "data.columns"
      ],
      "execution_count": 0,
      "outputs": []
    },
    {
      "cell_type": "markdown",
      "metadata": {
        "id": "OZXGarjlLhPS",
        "colab_type": "text"
      },
      "source": [
        "### Challenge"
      ]
    },
    {
      "cell_type": "code",
      "metadata": {
        "id": "hILWwtT3LhPT",
        "colab_type": "code",
        "colab": {}
      },
      "source": [
        "# Don't use the LabelEncoder but use one-hot-encoding instead.\n",
        "# For this you will need to use the pandas function pd.get_dummies\n",
        "# to encode and either a dataframe join or merge to merge the dataframes\n",
        "# inside the loop."
      ],
      "execution_count": 0,
      "outputs": []
    }
  ]
}